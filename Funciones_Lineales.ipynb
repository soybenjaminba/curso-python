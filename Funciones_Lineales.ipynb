{
  "nbformat": 4,
  "nbformat_minor": 0,
  "metadata": {
    "kernelspec": {
      "display_name": "Python 3",
      "language": "python",
      "name": "python3"
    },
    "language_info": {
      "codemirror_mode": {
        "name": "ipython",
        "version": 3
      },
      "file_extension": ".py",
      "mimetype": "text/x-python",
      "name": "python",
      "nbconvert_exporter": "python",
      "pygments_lexer": "ipython3",
      "version": "3.7.3"
    },
    "colab": {
      "name": "Funciones_Lineales.ipynb",
      "provenance": [],
      "include_colab_link": true
    }
  },
  "cells": [
    {
      "cell_type": "markdown",
      "metadata": {
        "id": "view-in-github",
        "colab_type": "text"
      },
      "source": [
        "<a href=\"https://colab.research.google.com/github/soybenjaminba/curso-python/blob/master/Funciones_Lineales.ipynb\" target=\"_parent\"><img src=\"https://colab.research.google.com/assets/colab-badge.svg\" alt=\"Open In Colab\"/></a>"
      ]
    },
    {
      "cell_type": "markdown",
      "metadata": {
        "id": "C9lrgQMBO40M"
      },
      "source": [
        "# 5. Funciones Lineales"
      ]
    },
    {
      "cell_type": "markdown",
      "metadata": {
        "id": "lrsi53xvO40R"
      },
      "source": [
        "La notación $f: \\mathbb{R}^{n}\\to \\mathbb{R}$ significa que $f$ es una función con **dominio** en $\\mathbb{R}^{n}$ e imagen en $\\mathbb{R}$, es decir, que toma un $n$-vector y lo convierte en un escalar.  \n",
        "La función puede denotarse como $f\\left(\\mathbf{x}\\right)= f\\left(x_{0},x_{1},\\dots,x_{n-1}\\right)$ donde $\\mathbf{x}\\in \\mathbb{R}^{n}$ y $x_{i}$ son las entradas del vector.  \n",
        "\n",
        "Es necesario enfatizar que $f(\\mathbf{x})$ es un escalar. "
      ]
    },
    {
      "cell_type": "markdown",
      "metadata": {
        "id": "RtTmstN2O40S"
      },
      "source": [
        "Para describir una función $f: \\mathbb{R}^{n} \\to \\mathbb{R}$ tenemos que especificar el cual es el valor para cualquier vector $\\mathbf{x}\\in\\mathbb{R}^{n}$. Por ejemplo, sea $f: \\mathbb{R}^{4} \\to \\mathbb{R}$ definida por\n",
        "$$\n",
        "f(\\mathbf{x}) = x_{0} + x_{1} + x_{2} + x_{3}\n",
        "$$"
      ]
    },
    {
      "cell_type": "markdown",
      "metadata": {
        "id": "xb43lL5kO40S"
      },
      "source": [
        "Así pues el valor de cualquier $4$-vector queda bien definido, por ejemplo:\n",
        "\n",
        "* $f(\\mathbf{0}) = 0 + 0+ 0+0 = 0$\n",
        "\n",
        "* $f([1\\; 0\\; 0\\; 0]) = 1+0+0+0 = 1$\n",
        "\n",
        "* $f([1\\; 1\\; 1\\; 1]) = 1+1+1+1 = 4$"
      ]
    },
    {
      "cell_type": "code",
      "metadata": {
        "id": "kMrOvi3QO40T"
      },
      "source": [
        "import numpy as np"
      ],
      "execution_count": null,
      "outputs": []
    },
    {
      "cell_type": "code",
      "metadata": {
        "id": "O0iD6w-KO40T"
      },
      "source": [
        "def f(x):\n",
        "    return np.sum(x)"
      ],
      "execution_count": null,
      "outputs": []
    },
    {
      "cell_type": "code",
      "metadata": {
        "id": "40gkGKb1O40T",
        "outputId": "b4ac4679-b80d-4dc6-d870-2def18ca185b"
      },
      "source": [
        "print('f(0) = ',f(np.array([0,0,0,0])))"
      ],
      "execution_count": null,
      "outputs": [
        {
          "output_type": "stream",
          "text": [
            "f(0) =  0\n"
          ],
          "name": "stdout"
        }
      ]
    },
    {
      "cell_type": "code",
      "metadata": {
        "id": "uWMcOMoVO40U",
        "outputId": "10c9665c-bdb9-4adf-e3a7-e4b2a095d1bb"
      },
      "source": [
        "print('f([1,0,0,0]) = ',f(np.array([1,0,0,0])))"
      ],
      "execution_count": null,
      "outputs": [
        {
          "output_type": "stream",
          "text": [
            "f([1,0,0,0]) =  1\n"
          ],
          "name": "stdout"
        }
      ]
    },
    {
      "cell_type": "code",
      "metadata": {
        "id": "_a3dCMCRO40V",
        "outputId": "ad283601-0ca1-45d2-aab2-b1f4961b2d1e"
      },
      "source": [
        "print('f([1,1,1,1]) = ',f(np.array([1,1,1,1])))"
      ],
      "execution_count": null,
      "outputs": [
        {
          "output_type": "stream",
          "text": [
            "f([1,1,1,1]) =  4\n"
          ],
          "name": "stdout"
        }
      ]
    },
    {
      "cell_type": "markdown",
      "metadata": {
        "id": "4DTNS8S1O40V"
      },
      "source": [
        "Como otro ejemplo, sea $g: \\mathbb{R}^{3} \\to \\mathbb{R}$ definida por \n",
        "$$\n",
        "g(\\mathbf{x}) = x_{0}\n",
        "$$"
      ]
    },
    {
      "cell_type": "markdown",
      "metadata": {
        "id": "3Nt3xfAUO40V"
      },
      "source": [
        "Tenemos entonces:\n",
        "\n",
        "* $g(\\mathbf{0}) = 0$ \n",
        "\n",
        "* $g([0\\; 0\\; 1]) = 0$\n",
        "\n",
        "* $g([1\\; 0\\; 4]) = 1$"
      ]
    },
    {
      "cell_type": "code",
      "metadata": {
        "id": "PYPa2R45O40V"
      },
      "source": [
        "def g(x):\n",
        "    return x[0]"
      ],
      "execution_count": null,
      "outputs": []
    },
    {
      "cell_type": "code",
      "metadata": {
        "id": "MmeRFt5yO40V",
        "outputId": "55de63a0-d6c4-4da3-f8c1-6cc08f9ef730"
      },
      "source": [
        "print('g(0) = ',g(np.array([0,0,0])))"
      ],
      "execution_count": null,
      "outputs": [
        {
          "output_type": "stream",
          "text": [
            "g(0) =  0\n"
          ],
          "name": "stdout"
        }
      ]
    },
    {
      "cell_type": "code",
      "metadata": {
        "id": "i8-IubvzO40W",
        "outputId": "0a5ba4f8-f79d-4f29-fb47-03bc6d5772fe"
      },
      "source": [
        "print('g([0,0,1]) = ',g(np.array([0,0,1])))"
      ],
      "execution_count": null,
      "outputs": [
        {
          "output_type": "stream",
          "text": [
            "g([0,0,1]) =  0\n"
          ],
          "name": "stdout"
        }
      ]
    },
    {
      "cell_type": "code",
      "metadata": {
        "id": "7Zs4bxg4O40W",
        "outputId": "8e505559-1af9-4126-eebf-cc5da2e54876"
      },
      "source": [
        "print('g([1,0,4]) = ',g(np.array([1,0,4])))"
      ],
      "execution_count": null,
      "outputs": [
        {
          "output_type": "stream",
          "text": [
            "g([1,0,4]) =  1\n"
          ],
          "name": "stdout"
        }
      ]
    },
    {
      "cell_type": "markdown",
      "metadata": {
        "id": "lJijMNLdO40W"
      },
      "source": [
        "Podemos notar que en este caso $f(\\mathbf{x})$ corresponde a la _función suma_ y $g(\\mathbf{x})$ a proyección sobre $x_{0}$."
      ]
    },
    {
      "cell_type": "markdown",
      "metadata": {
        "id": "C9k1a6r4O40W"
      },
      "source": [
        "## 5.1 Algunas funciones"
      ]
    },
    {
      "cell_type": "markdown",
      "metadata": {
        "id": "qqw-iQU_O40X"
      },
      "source": [
        "**Función producto interno**. Si una función tiene como aurgmentos dos $n$-vectores el dominio de la función se expresará como $\\mathbb{R}^{n}\\times\\mathbb{R}^{n}$. Por ejemplo, sea $f:\\mathbb{R}^{n}\\times\\mathbb{R}^{n} \\to \\mathbb{R}$ definida por:\n",
        "\n",
        "$$\n",
        "f(\\mathbf{a},\\mathbf{b}) = a_{0}b_{0} + a_{1}b_{1} + \\cdots + a_{n-1}b_{n-1}\n",
        "$$"
      ]
    },
    {
      "cell_type": "markdown",
      "metadata": {
        "id": "eSLpjcKaO40X"
      },
      "source": [
        "Notemos que podemos expresar lo anterior como\n",
        "\n",
        "$$\n",
        "f(\\mathbf{a},\\mathbf{b}) = \\mathbf{a}^{T}\\mathbf{b}\n",
        "$$\n",
        "\n",
        "Esta función recibe el nombre de función producto interno. Si quisieramos dejar fijo un vector, digamos el vector $\\mathbf{a}$ podemos recurrir a la siguiente notación:\n",
        "\n",
        "$$\n",
        "f_{\\mathbf{a}}(\\mathbf{b}) = \\mathbf{a}^{T}\\mathbf{b}\n",
        "$$\n",
        "\n",
        "Esto significará que $\\mathbf{a}$ estará fijo mientras que $\\mathbf{b}$ será el que variará. "
      ]
    },
    {
      "cell_type": "markdown",
      "metadata": {
        "id": "1e4-Jf79O40X"
      },
      "source": [
        "**Superposición y linealidad.** La función producto interno satisface la siguiente propiedad:\n",
        "\n",
        "$$\n",
        "\\begin{eqnarray}\n",
        "f_\\mathbf{x}(\\alpha\\mathbf{a}+\\beta\\mathbf{b}) &=& \\mathbf{x}^{T}(\\alpha\\mathbf{a}+\\beta\\mathbf{b}) \\\\\n",
        " &=& \\mathbf{x}^{T}(\\alpha\\mathbf{a})+\\mathbf{x}^{T}(\\beta\\mathbf{b}) \\\\\n",
        " &=& \\alpha(\\mathbf{x}^{T}\\mathbf{a}) + \\beta(\\mathbf{x}^{T}\\mathbf{b}) \\\\\n",
        " &=& \\alpha f_{\\mathbf{x}}(\\mathbf{a}) + \\beta f_{\\mathbf{x}}(\\mathbf{b})\n",
        "\\end{eqnarray}\n",
        "$$\n",
        "\n",
        "Si la función $g$ cumple que $g(\\alpha\\mathbf{x}+\\beta\\mathbf{y}) = \\alpha g(\\mathbf{x})+\\beta g(\\mathbf{y})$ decimos que la función $g$ es una **función lineal.** "
      ]
    },
    {
      "cell_type": "markdown",
      "metadata": {
        "id": "TPppMUrsO40X"
      },
      "source": [
        "Si $f$ es una función lineal la _linearidad_ se extiende a cualquier combinación lineal y no solamente a una combinación de dos vectores, tenemos \n",
        "\n",
        "$$\n",
        "f(\\alpha_{0}\\mathbf{x_{0}} + \\alpha_{1}\\mathbf{x_{1}} + \\alpha_{2}\\mathbf{x_{2}} + \\cdots \n",
        " + \\alpha_{n-1}\\mathbf{x_{n-1}}) = \\alpha_{0}f(\\mathbf{x_{0}}) + \\alpha_{1}f(\\mathbf{x_{1}}) + \\alpha_{2}f(\\mathbf{x_{2}}) + \\cdots + \\alpha_{n-1}f(\\mathbf{x_{n-1}})\n",
        "$$\n"
      ]
    },
    {
      "cell_type": "markdown",
      "metadata": {
        "id": "fzMpV-NUO40X"
      },
      "source": [
        "Si una función $g:\\mathbf{R}^{n} \\to \\mathbf{R}$ es lineal sabemo que cumple $g(\\alpha\\mathbf{x}+\\beta\\mathbf{y}) = \\alpha g(\\mathbf{x})+\\beta g(\\mathbf{y})$, propiedad que llamaremos _superposición_. Ahora, la superposición puede ser separada en dos propiedades:\n",
        "\n",
        "* _Homogeneidad_. Para cualquier $n$-vector $\\mathbf{x}$ y cualquier escalar $\\alpha$ tenemos que $g(\\alpha \\mathbf{x}) = \\alpha g(\\mathbf{x})$\n",
        "\n",
        "* _Aditividad_. Para cualquier $n$-vector $\\mathbf{x}$ y $\\mathbf{y}$ tenemos que $g(\\mathbf{x}+\\mathbf{y}) = g(\\mathbf{x})+g(\\mathbf{y})$\n",
        "\n",
        "La homogeneidad nos dice que escalar el argumento es igual que escalar el valor de la función; la aditividad nos indica que sumar los argumentos es igual que sumar los valores de la función. "
      ]
    },
    {
      "cell_type": "code",
      "metadata": {
        "id": "ajZlsR_WO40X"
      },
      "source": [
        "a = np.array([1,1,1,1])\n",
        "b = np.array([1,0,1,0])\n",
        "x,y = 1,-2"
      ],
      "execution_count": null,
      "outputs": []
    },
    {
      "cell_type": "code",
      "metadata": {
        "id": "lwWYEM5xO40Y",
        "outputId": "dba91d5e-c888-4b23-84e2-29a2cada5a62"
      },
      "source": [
        "print('f(x*a + y*b) = ',f(x*a + y*b))"
      ],
      "execution_count": null,
      "outputs": [
        {
          "output_type": "stream",
          "text": [
            "f(x*a + y*b) =  0\n"
          ],
          "name": "stdout"
        }
      ]
    },
    {
      "cell_type": "code",
      "metadata": {
        "id": "kHExCRqpO40Y",
        "outputId": "5ce901f7-b24a-43b7-d8fa-e0302ad2af0e"
      },
      "source": [
        "print('x*f(a) + y*f(b) =',x*f(a) + y*f(b))"
      ],
      "execution_count": null,
      "outputs": [
        {
          "output_type": "stream",
          "text": [
            "x*f(a) + y*f(b) = 0\n"
          ],
          "name": "stdout"
        }
      ]
    },
    {
      "cell_type": "markdown",
      "metadata": {
        "id": "SVSDTyvgO40Y"
      },
      "source": [
        "**Representación producto interno de una función lineal.** En matemáticas las verdades, cuando son verdades, se demuestran usando argumentos principalmente lógicos. Estas verdades vienen empaquetadas en _teoremas_, _corolarios_ y _lemas_. Si no podemos demostrarlo pero creemos que es verdad lo llamamos _conjetura_. Por ejemplo, consideremos el siguiente teorema:"
      ]
    },
    {
      "cell_type": "markdown",
      "metadata": {
        "id": "w2QiFn4IO40Y"
      },
      "source": [
        "**Teorema.** Los ángulos a ambos lados de una recta, que intersecta a otra, siempre suman $180^\\circ$ \n",
        "\n",
        "![img](fl_1.png)"
      ]
    },
    {
      "cell_type": "markdown",
      "metadata": {
        "id": "ccEQgENxO40Y"
      },
      "source": [
        "*Demostración*: Supongamos que $\\alpha + \\beta \\neq 180$ eso quiere decir que $\\alpha + \\beta > 180$ o $\\alpha + \\beta < 180$. Ahora, pensemos en la linea **f** pasa por el diámetro, es decir, corta a la mitad al círculo. \n",
        "\n",
        "![](fl_t1.png)\n",
        "\n",
        "Al pasar por el diámetro sabemos que ambos lados tenemos un ángulo de $180^\\circ$. Llamemos a ese ángulo $\\Omega=180^\\circ$. Ahora, llamemos **g** a una línea que pase por otro diámetro. \n",
        "\n",
        "![](fl_t2.png)"
      ]
    },
    {
      "cell_type": "markdown",
      "metadata": {
        "id": "t5Q2qnjZO40Z"
      },
      "source": [
        "Entonces, al seccionar con **g** tenemos nuevamente los ángulos $\\alpha$ y $\\beta$ entonces tenemos que $\\alpha + \\beta = \\Omega$ pero asumimos que $\\alpha + \\beta \\neq 180^\\circ$ lo cuyal nos lleva a una contradicción $!$ por ello lo anteior debe ser cierto.  "
      ]
    },
    {
      "cell_type": "markdown",
      "metadata": {
        "id": "SvANmRVFO40Z"
      },
      "source": [
        "**Corolario.** Cuando dos líneas se intersectan los ángulos opuestos entre ellos son iguales.\n",
        "\n",
        "![](fl_2.png)"
      ]
    },
    {
      "cell_type": "markdown",
      "metadata": {
        "id": "Ulow2vsnO40Z"
      },
      "source": [
        "*Demostración:* Sabemos que $\\beta + \\alpha = 180^\\circ$ entonces $\\alpha = 180^\\circ - \\beta$. Por otro lado, sabemos que también $\\gamma + \\beta = 180^\\circ$ así pues $\\gamma = 180^\\circ - \\beta$. Juntando lo anteior tenemos que:\n",
        "\n",
        "$$\n",
        "\\alpha  =  180^\\circ - \\beta = \\gamma\n",
        "$$\n",
        "\n",
        "Lo mismo es posible aplicarse para $\\beta$ y $\\delta$. **QED**. "
      ]
    },
    {
      "cell_type": "markdown",
      "metadata": {
        "id": "XxE73j2dO40Z"
      },
      "source": [
        "Ya explorados los teoremas y los corolarios veamos la siguiente proposición:  \n",
        "\n",
        "**Proposición:** Una función definida como el producto punto de sus argumentos y algún vector fijo es lineal. Lo inverso es también verdadero: si una función es lineal entonces puede ser expresada como el producto interno de sus argumentos y algún vector fijo."
      ]
    },
    {
      "cell_type": "markdown",
      "metadata": {
        "id": "wZLEADY9O40Z"
      },
      "source": [
        "Ahora, sea $f$ una función escalar de $n$-vectores que además es lineal. Entonces decimos que _existe_ un $n$-vector $\\mathbf{a}$ tal que $f(\\mathbf{x}) = \\mathbf{a}^{T}\\mathbf{x}$ para cualquier $\\mathbf{x}$. A la expresión $\\mathbf{a}^{T}\\mathbf{x}$ le llamaremos *representación producto punto* de $f$. "
      ]
    },
    {
      "cell_type": "markdown",
      "metadata": {
        "id": "kafAoUYhO40a"
      },
      "source": [
        "Otra propiedad interesante es que la *representación producto punto* de $f$ como $\\mathbf{a}^{T}\\mathbf{x}$ es única. "
      ]
    },
    {
      "cell_type": "markdown",
      "metadata": {
        "id": "7YgymF0ZO40a"
      },
      "source": [
        "$ f(\\mathbf{x}) = \\displaystyle\\sum_{i}^{n-1} x_{i}$ si n=4 esto lo podemos expresar como $f(\\mathbf{x}) = \\mathbf{a}^{T}\\mathbf{x}$ donde:\n",
        "$$\n",
        "a^T = [1,1,1,1]\n",
        "$$"
      ]
    },
    {
      "cell_type": "markdown",
      "metadata": {
        "id": "NK-_VxKNO40a"
      },
      "source": [
        "**Promedio.** El promedio de una $n$-vector es definida como\n",
        "\n",
        "$$\n",
        "f(x) = (x_{0}+x_{1}+\\cdots+x_{n-1})/n\n",
        "$$\n",
        "\n",
        "Y se denota como $\\mathbf{avg}(x)$, notemos que este $\\mathbf{avg}(x) = a^{T}x$ con\n",
        "\n",
        "$$\n",
        "a^T = [1/n\\; 1/n\\; \\cdots \\; 1/n] = \\mathbf{1}/n\n",
        "$$"
      ]
    },
    {
      "cell_type": "markdown",
      "metadata": {
        "id": "EDoUtHdVO40a"
      },
      "source": [
        "**Máximo.** Para $n$-vectores $x$ la función que nos da el máximo coeficiente de un vector es $f(x)=max\\{x_{0},x_{1},\\dots,x_{n-1}\\}$ y no es lineal. Para demostrar esto voy a suponer que es lineal y dar un contraejemplo. Si tomamos $x^T = [1,-1]$ y $y^T=[-1,1]$ con $\\alpha = 1/2$ y $\\beta = 1/2$. Entonces tenemos que:\n",
        "\n",
        "$$\n",
        "f(\\alpha x + \\beta y) = 0 \\neq \\alpha f(x) + \\beta f(y) = 1\n",
        "$$"
      ]
    },
    {
      "cell_type": "code",
      "metadata": {
        "id": "kPQfdxqqO40a"
      },
      "source": [
        "def MAX(x):\n",
        "    return np.max(x)"
      ],
      "execution_count": null,
      "outputs": []
    },
    {
      "cell_type": "code",
      "metadata": {
        "id": "sAZsVeJcO40b",
        "outputId": "f1b2a2f7-e381-4fac-ec00-e62c79756b9d"
      },
      "source": [
        "print('MAX([1,0,2]) = ', MAX(np.array([1,0,2])))"
      ],
      "execution_count": null,
      "outputs": [
        {
          "output_type": "stream",
          "text": [
            "MAX([1,0,2]) =  2\n"
          ],
          "name": "stdout"
        }
      ]
    },
    {
      "cell_type": "code",
      "metadata": {
        "id": "TOs_ewdfO40b"
      },
      "source": [
        "x = np.array([1,-1])\n",
        "y = np.array([-1,1])\n",
        "a,b = 1/2, 1/2"
      ],
      "execution_count": null,
      "outputs": []
    },
    {
      "cell_type": "code",
      "metadata": {
        "id": "qCGuTfKlO40b",
        "outputId": "11a35feb-2dc7-4ea1-edc9-9cc518c1cf84"
      },
      "source": [
        "print('MAX(a*x + b*y) = ', MAX(a*x + b*y))"
      ],
      "execution_count": null,
      "outputs": [
        {
          "output_type": "stream",
          "text": [
            "MAX(a*x + b*y) =  0.0\n"
          ],
          "name": "stdout"
        }
      ]
    },
    {
      "cell_type": "code",
      "metadata": {
        "id": "bP_KRi6BO40b",
        "outputId": "e5fbe001-82be-4e6f-9c9d-9a501d3006b6"
      },
      "source": [
        "print('a*MAX(x) + b*MAX(y) = ', a*MAX(x) + b*MAX(y))"
      ],
      "execution_count": null,
      "outputs": [
        {
          "output_type": "stream",
          "text": [
            "a*MAX(x) + b*MAX(y) =  1.0\n"
          ],
          "name": "stdout"
        }
      ]
    },
    {
      "cell_type": "markdown",
      "metadata": {
        "id": "oshwhCRHO40c"
      },
      "source": [
        "## 5.2 Algunas consideraciones"
      ]
    },
    {
      "cell_type": "markdown",
      "metadata": {
        "id": "-UHLT85hO40c"
      },
      "source": [
        "**Funciones Afines.** Una función $f:\\mathbb{R}^{n} \\to \\mathbb{R}$ es afín si y solo si puede ser expresada como $f(x) = a^{T}x + b$ para algún $n$-vector $a$ y un escalar $b$, es llamado algunas veces *offset* o *bias*. Por ejemplo si consideramos la siguiente función:\n",
        "\n",
        "$$\n",
        "f(x) = 3 + x_{0}+x_{1}+x_{2}\n",
        "$$\n",
        "\n",
        "La podemos representar como \n",
        "\n",
        "$$\n",
        "f(x) = a^T x + b = [1 \\; 1 \\; 1] x + 3\n",
        "$$"
      ]
    },
    {
      "cell_type": "markdown",
      "metadata": {
        "id": "L1QdB7FOO40c"
      },
      "source": [
        "Una función afín cumplirá la superposición si y solo si la suma de de los coeficientes de la combinación lineal es uno. Es decir, si $f$ es una función afín entonces $f(\\alpha x + \\beta y) = \\alpha f(x)+ \\beta f(y)$ si y solo si $  \\alpha + \\beta = 1$.\n",
        "\n",
        "*Demostración.* Como $f$ es afín tenemos que $f(x)=a^T x + b$  entonces, usando que $  \\alpha + \\beta = 1$\n",
        "\n",
        "$$\n",
        "\\begin{eqnarray}\n",
        "f(\\alpha x + \\beta y) &=& a^T (\\alpha x + \\beta y) + b \\\\\n",
        " &=& a^T \\alpha x + a^T \\beta y + (\\alpha + \\beta) b \\\\\n",
        " &=& \\alpha a^T x + \\alpha b + \\beta a^T y + \\beta b \\\\\n",
        " &=& \\alpha (a^T x + b) + \\beta (a^T y + b) \\\\\n",
        " &=& \\alpha f(x) + \\beta f(y)\n",
        "\\end{eqnarray}\n",
        "$$"
      ]
    },
    {
      "cell_type": "markdown",
      "metadata": {
        "id": "EZCHXVMDO40c"
      },
      "source": [
        "**Ejercicio.** Determina si las siguientes funciones son lineales o no:\n",
        "* $f(\\mathbf{x}) = x_{n-1} - x_{0}$\n",
        "\n",
        "* Si $\\mathbf{x}\\in\\mathbb{R}^{4}$ y $f:\\mathbb{R}^{4} \\to \\mathbb{R}$ definida como $f(\\mathbf{x})=x_{3}+(x_{3}-x_{2})$"
      ]
    },
    {
      "cell_type": "markdown",
      "metadata": {
        "id": "h72H9ZxxO40e"
      },
      "source": [
        "**Problema: Potencia en un clúster de procesadores y temperatura.** La temperatura $T$ de un cluster de tres procesadores es una función afín de la potencia de los procesadores $P^T = [P_{0}\\; P_{1}\\; P_{2}]$. Cuando los tres procesadores están en reposo tenemos que $P^T = [10\\; 10\\; 10]$ lo cual nos da una temperatura de $T=35$. Cuando el primer procesador opera a potencia absoluta tenemos que $P^T = [100\\; 10\\; 10]$ y la temperatura se eleva a $T=60$. Cuando el segundo procesador opera a su máxima capacidad tenemos $P^T = [10\\; 100\\; 10]$ y la temperatura se eleva a $T=75$. Cuando el tercer procesador opera a máxima potencia mientras que los otros dos están en reposo tenemos que $P^T = [10\\; 10\\; 100]$ y la temperatura se elevea a $T=65$. Supongamos que los tres procesadores operan a máxima potencia ¿Qué temperatura se alcanza? La temperatura de fusión de los procesadores (a la que los procesadores se derriten) es cerca de $150$ ¿Cuál es la potencia máxima que pueden alcanzar los procesadores para que $T\\le 150$?  \n",
        "*Hint:* $T(P) = a^T P + b$"
      ]
    }
  ]
}